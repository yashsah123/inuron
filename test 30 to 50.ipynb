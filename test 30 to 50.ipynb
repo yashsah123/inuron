{
 "cells": [
  {
   "cell_type": "code",
   "execution_count": 6,
   "metadata": {},
   "outputs": [
    {
     "data": {
      "text/plain": [
       "False"
      ]
     },
     "execution_count": 6,
     "metadata": {},
     "output_type": "execute_result"
    }
   ],
   "source": [
    "a='9s8df!df5'\n",
    "a.isalnum()"
   ]
  },
  {
   "cell_type": "code",
   "execution_count": 7,
   "metadata": {},
   "outputs": [],
   "source": [
    "from datetime import datetime\n",
    "def log_datetime(a):\n",
    "    \n",
    "    def wrapper():\n",
    "        print(f'function:{a.__name__}\\nrun on {datetime.today().strftime(\"%Y-%m-%d %H:%M:%S\")}')\n",
    "        print(f'{\"-\"*30}')\n",
    "        a()\n",
    "    return wrapper\n",
    "@log_datetime\n",
    "def dailt_backup():\n",
    "    print(\"daily backup job is finished\")\n"
   ]
  },
  {
   "cell_type": "code",
   "execution_count": 8,
   "metadata": {},
   "outputs": [
    {
     "name": "stdout",
     "output_type": "stream",
     "text": [
      "function:dailt_backup\n",
      "run on 2023-05-05 11:34:27\n",
      "------------------------------\n",
      "daily backup job is finished\n"
     ]
    }
   ],
   "source": [
    "dailt_backup()\n"
   ]
  },
  {
   "cell_type": "code",
   "execution_count": 9,
   "metadata": {},
   "outputs": [],
   "source": [
    "number_list = [10, 20, 30, 40, 50, 60, 70, 80, 90, 100]\n",
    "def test1(number_list):\n",
    "    for i in number_list:\n",
    "        if i<=50:\n",
    "            return i\n",
    "\n",
    "        \n",
    "        \n"
   ]
  },
  {
   "cell_type": "code",
   "execution_count": 10,
   "metadata": {},
   "outputs": [],
   "source": [
    "number_list = [10, 20, 30, 40, 50, 60, 70, 80, 90, 100]\n",
    "def test1(number_list):\n",
    "    for i in number_list:\n",
    "        if i<=50:\n",
    "            print(i)"
   ]
  },
  {
   "cell_type": "code",
   "execution_count": 11,
   "metadata": {},
   "outputs": [
    {
     "name": "stdout",
     "output_type": "stream",
     "text": [
      "10\n",
      "20\n",
      "30\n",
      "40\n",
      "50\n"
     ]
    }
   ],
   "source": [
    "test1(number_list)"
   ]
  },
  {
   "cell_type": "code",
   "execution_count": 12,
   "metadata": {},
   "outputs": [
    {
     "name": "stdout",
     "output_type": "stream",
     "text": [
      "10\n",
      "20\n",
      "30\n",
      "40\n",
      "50\n"
     ]
    },
    {
     "ename": "TypeError",
     "evalue": "'NoneType' object is not callable",
     "output_type": "error",
     "traceback": [
      "\u001b[1;31m---------------------------------------------------------------------------\u001b[0m",
      "\u001b[1;31mTypeError\u001b[0m                                 Traceback (most recent call last)",
      "Cell \u001b[1;32mIn[12], line 1\u001b[0m\n\u001b[1;32m----> 1\u001b[0m \u001b[39mlist\u001b[39;49m(\u001b[39mmap\u001b[39;49m(test1(number_list),number_list ))\n",
      "\u001b[1;31mTypeError\u001b[0m: 'NoneType' object is not callable"
     ]
    }
   ],
   "source": [
    "list(map(test1(number_list),number_list ))"
   ]
  },
  {
   "cell_type": "code",
   "execution_count": null,
   "metadata": {},
   "outputs": [
    {
     "name": "stdout",
     "output_type": "stream",
     "text": [
      "[1, 2, 3, 8, 9]\n"
     ]
    }
   ],
   "source": [
    "a=[1,2,2,2,1,1,1,1,3,3,3,5,5,5,5,4,4,4,4,4,4,8,8,8,9,9,9]\n",
    "b=[]\n",
    "for i in a:\n",
    "    c=a.count(i)\n",
    "    if c %2!=0:\n",
    "        if i not in b:\n",
    "            b=b+[i]\n",
    "print(b)   \n",
    "        \n",
    "        \n",
    "\n"
   ]
  },
  {
   "cell_type": "code",
   "execution_count": null,
   "metadata": {},
   "outputs": [
    {
     "data": {
      "text/plain": [
       "3"
      ]
     },
     "execution_count": 26,
     "metadata": {},
     "output_type": "execute_result"
    }
   ],
   "source": [
    "a=\"fdfdf\"\n",
    "a.count(\"f\")"
   ]
  },
  {
   "cell_type": "code",
   "execution_count": null,
   "metadata": {},
   "outputs": [
    {
     "name": "stdout",
     "output_type": "stream",
     "text": [
      "[10, 20, 30, 40, 50]\n"
     ]
    }
   ],
   "source": [
    "number_list = [10, 20, 30, 40, 50, 60, 70, 80, 90, 100]\n",
    "\n",
    "for i in list(number_list):\n",
    "    if i>50:\n",
    "        number_list.remove(i)\n",
    "print(number_list)\n",
    "    "
   ]
  },
  {
   "cell_type": "code",
   "execution_count": null,
   "metadata": {},
   "outputs": [
    {
     "name": "stdout",
     "output_type": "stream",
     "text": [
      "[20, 60, 30]\n"
     ]
    }
   ],
   "source": [
    "sample_list = [10, 20, 60, 30, 20, 40, 30, 60, 70, 80]\n",
    "b=[]\n",
    "for i in sample_list:\n",
    "    if sample_list.count(i)>1:\n",
    "        if i not in b:\n",
    "            b.append(i)\n",
    "print(b)\n"
   ]
  },
  {
   "cell_type": "code",
   "execution_count": null,
   "metadata": {},
   "outputs": [
    {
     "name": "stdout",
     "output_type": "stream",
     "text": [
      "[10, 20, 30, 40, 50]\n"
     ]
    }
   ],
   "source": [
    "number_list = [10, 20, 30, 40, 50, 60, 70, 80, 90, 100]\n",
    "\n",
    "for i in range(len(number_list)-1,-1,-1):\n",
    "    if number_list[i] > 50:\n",
    "        del number_list[i]\n",
    "\n",
    "print(number_list)\n"
   ]
  },
  {
   "cell_type": "code",
   "execution_count": null,
   "metadata": {},
   "outputs": [
    {
     "name": "stdout",
     "output_type": "stream",
     "text": [
      "[5, [10, 15, [20, 25, [30, 3500], 40], 45], 50]\n"
     ]
    }
   ],
   "source": [
    "list1 = [5, [10, 15, [20, 25, [30, 35], 40], 45], 50]\n",
    "list1[1][2][2][1]=3500\n",
    "print(list1)\n",
    "    "
   ]
  },
  {
   "cell_type": "code",
   "execution_count": 122,
   "metadata": {},
   "outputs": [],
   "source": [
    "def test2(a,b):\n",
    "    def inner(a,b):\n",
    "        return a+b\n",
    "    z=inner(a,b)\n",
    "    return z+\"developer\"\n",
    "\n",
    "\n",
    "\n"
   ]
  },
  {
   "cell_type": "code",
   "execution_count": 124,
   "metadata": {},
   "outputs": [
    {
     "data": {
      "text/plain": [
       "'ammakellydeveloper'"
      ]
     },
     "execution_count": 124,
     "metadata": {},
     "output_type": "execute_result"
    }
   ],
   "source": [
    "test2(\"amma\",\"kelly\")\n"
   ]
  },
  {
   "cell_type": "code",
   "execution_count": 4,
   "metadata": {},
   "outputs": [
    {
     "name": "stdout",
     "output_type": "stream",
     "text": [
      "[10, 20, 30, 40, 50]\n"
     ]
    }
   ],
   "source": [
    "a=[10,20,30,40,50,60,70,80,90,100]\n",
    "for i in list(a):\n",
    "    if i>50:\n",
    "        a.remove(i)\n",
    "print(a)"
   ]
  },
  {
   "cell_type": "code",
   "execution_count": 14,
   "metadata": {},
   "outputs": [],
   "source": [
    "emp_dict = {\n",
    "    \"company\": {\n",
    "        \"employee\": {\n",
    "            \"name\": \"Jess\",\n",
    "            \"payable\": {\n",
    "                \"salary\": 9000,\n",
    "                \"increment\": 12\n",
    "            }\n",
    "        }\n",
    "    }\n",
    "}"
   ]
  },
  {
   "cell_type": "code",
   "execution_count": 15,
   "metadata": {},
   "outputs": [
    {
     "data": {
      "text/plain": [
       "12"
      ]
     },
     "execution_count": 15,
     "metadata": {},
     "output_type": "execute_result"
    }
   ],
   "source": [
    "emp_dict[\"company\"][\"employee\"][\"payable\"][\"increment\"]"
   ]
  },
  {
   "cell_type": "code",
   "execution_count": null,
   "metadata": {},
   "outputs": [],
   "source": [
    "for i in range(0,11):\n",
    "    a=0\n",
    "    b=0\n",
    "    a=a+i\n",
    "    c=a+b\n",
    "    a,b=(a+i),a\n",
    "    \n",
    "    print(c)"
   ]
  },
  {
   "cell_type": "code",
   "execution_count": 63,
   "metadata": {},
   "outputs": [],
   "source": [
    "def test1(n):\n",
    "    a=0\n",
    "    b=0\n",
    "    \n",
    "    \n",
    "    for i in range (0,n):\n",
    "        a=b+i\n",
    "        b=a-1\n",
    "        c=a+b\n",
    "        print(a ,b,c)"
   ]
  },
  {
   "cell_type": "code",
   "execution_count": 64,
   "metadata": {},
   "outputs": [
    {
     "name": "stdout",
     "output_type": "stream",
     "text": [
      "0 -1 -1\n",
      "0 -1 -1\n",
      "1 0 1\n",
      "3 2 5\n",
      "6 5 11\n",
      "10 9 19\n",
      "15 14 29\n",
      "21 20 41\n",
      "28 27 55\n",
      "36 35 71\n"
     ]
    }
   ],
   "source": [
    "test1(10)"
   ]
  },
  {
   "cell_type": "code",
   "execution_count": 90,
   "metadata": {},
   "outputs": [
    {
     "name": "stdout",
     "output_type": "stream",
     "text": [
      "curent number 0 prviouse number 0 sum: 0\n",
      "curent number 1 prviouse number 0 sum: 1\n",
      "curent number 2 prviouse number 1 sum: 3\n",
      "curent number 3 prviouse number 2 sum: 5\n",
      "curent number 4 prviouse number 3 sum: 7\n",
      "curent number 5 prviouse number 4 sum: 9\n",
      "curent number 6 prviouse number 5 sum: 11\n",
      "curent number 7 prviouse number 6 sum: 13\n",
      "curent number 8 prviouse number 7 sum: 15\n",
      "curent number 9 prviouse number 8 sum: 17\n"
     ]
    }
   ],
   "source": [
    "a=0\n",
    "b=0\n",
    "for i in range(0,10):\n",
    "    a=i\n",
    "    c=a+b\n",
    "    a,b=b,a\n",
    "    print(f\"curent number {i} prviouse number {a} sum: {c}\")\n",
    "\n",
    "    \n",
    "    "
   ]
  },
  {
   "cell_type": "code",
   "execution_count": 102,
   "metadata": {},
   "outputs": [
    {
     "name": "stdout",
     "output_type": "stream",
     "text": [
      "i,e,r,n,"
     ]
    }
   ],
   "source": [
    "a=\"ineuron\"\n",
    "a=(a[0:10:2])\n",
    "for i in a:\n",
    "    print(f\"{i},\",end=\"\")"
   ]
  },
  {
   "cell_type": "code",
   "execution_count": 2,
   "metadata": {},
   "outputs": [
    {
     "name": "stdout",
     "output_type": "stream",
     "text": [
      "1 2 3 4 5 6 7 8 9 10 \n",
      "\n",
      "2 4 6 8 10 12 14 16 18 20 \n",
      "\n",
      "3 6 9 12 15 18 21 24 27 30 \n",
      "\n",
      "4 8 12 16 20 24 28 32 36 40 \n",
      "\n",
      "5 10 15 20 25 30 35 40 45 50 \n",
      "\n",
      "6 12 18 24 30 36 42 48 54 60 \n",
      "\n",
      "7 14 21 28 35 42 49 56 63 70 \n",
      "\n",
      "8 16 24 32 40 48 56 64 72 80 \n",
      "\n",
      "9 18 27 36 45 54 63 72 81 90 \n",
      "\n",
      "10 20 30 40 50 60 70 80 90 100 \n",
      "\n"
     ]
    }
   ],
   "source": [
    "for i in range(1,11):\n",
    "    for j in range(1,11):\n",
    "        j=j*i\n",
    "        print(f\"{j}\",end=\" \")\n",
    "    print(\"\\n\")\n",
    "        "
   ]
  },
  {
   "cell_type": "code",
   "execution_count": 164,
   "metadata": {},
   "outputs": [
    {
     "name": "stdout",
     "output_type": "stream",
     "text": [
      "(87, 45, 65, 99)\n",
      "max 99\n",
      "min 45\n"
     ]
    }
   ],
   "source": [
    "sample_list = [87, 45, 41, 65, 94, 41, 99, 94]\n",
    "a=[]\n",
    "\n",
    "for i in sample_list:\n",
    "    if sample_list.count(i)==1:\n",
    "        a.append(i)\n",
    "print(tuple(a))\n",
    "print(\"max\",max(a))\n",
    "print(\"min\",min(a))\n",
    "        \n",
    "        \n",
    "              \n",
    "        \n",
    "        "
   ]
  },
  {
   "cell_type": "code",
   "execution_count": 159,
   "metadata": {},
   "outputs": [
    {
     "data": {
      "text/plain": [
       "(87, 45, 65, 99)"
      ]
     },
     "execution_count": 159,
     "metadata": {},
     "output_type": "execute_result"
    }
   ],
   "source": [
    "tuple(a)"
   ]
  },
  {
   "cell_type": "code",
   "execution_count": 174,
   "metadata": {},
   "outputs": [
    {
     "name": "stdout",
     "output_type": "stream",
     "text": [
      "addition= 20\n",
      "multiplication= 200\n"
     ]
    }
   ],
   "source": [
    "c=lambda a:a+15 \n",
    "print(\"addition=\",c(5))\n",
    "a= lambda x,y:x*y\n",
    "print(\"multiplication=\", a(10,20))\n"
   ]
  },
  {
   "cell_type": "code",
   "execution_count": 179,
   "metadata": {},
   "outputs": [
    {
     "data": {
      "text/plain": [
       "[1, 2, 2, 3, 5, 6, 8, 9, 74]"
      ]
     },
     "execution_count": 179,
     "metadata": {},
     "output_type": "execute_result"
    }
   ],
   "source": [
    "a=(2,3,6,9,8,74,5,2,1)\n",
    "sorted(a)"
   ]
  },
  {
   "cell_type": "code",
   "execution_count": 191,
   "metadata": {},
   "outputs": [
    {
     "data": {
      "text/plain": [
       "[(1, 's'),\n",
       " (2, 't', 'fgdgfdgfg'),\n",
       " (9, 'r', 'gfgdfggfdgfdgfdgf', 222222),\n",
       " (9, 'y')]"
      ]
     },
     "execution_count": 191,
     "metadata": {},
     "output_type": "execute_result"
    }
   ],
   "source": [
    "a= lambda x : sorted(x)\n",
    "l= [(2,'t',\"fgdgfdgfg\"),(9,'r',\"gfgdfggfdgfdgfdgf\",222222),(9,'y'),(1,'s')]\n",
    "a(l)"
   ]
  },
  {
   "cell_type": "code",
   "execution_count": null,
   "metadata": {},
   "outputs": [],
   "source": [
    "a= lambda x : sorted(x)\n",
    "\n",
    "l= [(2,'t',\"fgdgfdgfg\"),(9,'r',\"gfgdfggfdgfdgfdgf\",222222),(9,'y'),(1,'s')]\n",
    "a(l)"
   ]
  },
  {
   "cell_type": "code",
   "execution_count": 197,
   "metadata": {},
   "outputs": [
    {
     "name": "stdout",
     "output_type": "stream",
     "text": [
      "year 2023\n",
      "month 5\n",
      "day 5\n",
      "time <built-in method time of datetime.datetime object at 0x000001B821D2B0F0>\n"
     ]
    }
   ],
   "source": [
    "import datetime\n",
    "now=datetime.datetime.now()\n",
    "year=lambda x:x.year\n",
    "month=lambda x:x.month\n",
    "day= lambda x:x.day\n",
    "time=lambda x:x.time\n",
    "print(\"year\",year(now))\n",
    "print(\"month\",month(now))\n",
    "print(\"day\",day(now))\n",
    "print(\"time\",time(now))"
   ]
  },
  {
   "cell_type": "code",
   "execution_count": 5,
   "metadata": {},
   "outputs": [
    {
     "name": "stdout",
     "output_type": "stream",
     "text": [
      "{'YASHD', 'YASH'}\n",
      "{'yashd', 'yash'}\n"
     ]
    }
   ],
   "source": [
    "l=[\"yashd\",\"YASH\",\"yashd\",\"YASH\"]\n",
    "a=lambda a:a.upper()\n",
    "b=lambda a:a.lower()\n",
    "\n",
    "print(set(list(map(a,l))))\n",
    "print(set(list(map(b,l))))\n",
    "\n"
   ]
  },
  {
   "cell_type": "code",
   "execution_count": 219,
   "metadata": {},
   "outputs": [
    {
     "name": "stdout",
     "output_type": "stream",
     "text": [
      "[4, 5, 6]\n"
     ]
    }
   ],
   "source": [
    "d=[1,2,3,4,5,6,1,2,3,1,2,3]\n",
    "test1(d)"
   ]
  },
  {
   "cell_type": "code",
   "execution_count": 220,
   "metadata": {},
   "outputs": [
    {
     "ename": "TypeError",
     "evalue": "'int' object is not iterable",
     "output_type": "error",
     "traceback": [
      "\u001b[1;31m---------------------------------------------------------------------------\u001b[0m",
      "\u001b[1;31mTypeError\u001b[0m                                 Traceback (most recent call last)",
      "Cell \u001b[1;32mIn[220], line 1\u001b[0m\n\u001b[1;32m----> 1\u001b[0m \u001b[39mlist\u001b[39;49m(\u001b[39mmap\u001b[39;49m(test1,d))\n",
      "Cell \u001b[1;32mIn[218], line 9\u001b[0m, in \u001b[0;36mtest1\u001b[1;34m(a)\u001b[0m\n\u001b[0;32m      7\u001b[0m \u001b[39mdef\u001b[39;00m \u001b[39mtest1\u001b[39m(a):\n\u001b[0;32m      8\u001b[0m     z\u001b[39m=\u001b[39m[]\n\u001b[1;32m----> 9\u001b[0m     \u001b[39mfor\u001b[39;00m i \u001b[39min\u001b[39;00m a:\n\u001b[0;32m     10\u001b[0m         \u001b[39mif\u001b[39;00m a\u001b[39m.\u001b[39mcount(i)\u001b[39m==\u001b[39m\u001b[39m1\u001b[39m:\n\u001b[0;32m     11\u001b[0m             z\u001b[39m.\u001b[39mappend(i)\n",
      "\u001b[1;31mTypeError\u001b[0m: 'int' object is not iterable"
     ]
    }
   ],
   "source": [
    "list(map(test1,d))"
   ]
  },
  {
   "cell_type": "code",
   "execution_count": 7,
   "metadata": {},
   "outputs": [
    {
     "name": "stdout",
     "output_type": "stream",
     "text": [
      "[4, 5, 6]\n"
     ]
    }
   ],
   "source": [
    "d=[1,2,3,4,5,6,1,2,3,1,2,3]\n",
    "z=[]\n",
    "for i in d:\n",
    "    if d.count(i)==1:\n",
    "        z.append(i)\n",
    "print(z)\n"
   ]
  },
  {
   "cell_type": "code",
   "execution_count": 224,
   "metadata": {},
   "outputs": [
    {
     "name": "stdout",
     "output_type": "stream",
     "text": [
      "even number  13\n",
      "oddd number  14\n"
     ]
    }
   ],
   "source": [
    "l=[1,2,3,6,5,4,7,8,9,6,3,2,1,4,5,8,7,5,2,3,6,4,1,2,3,4,1]\n",
    "even=len(list(filter(lambda a:a%2==0,l)))\n",
    "odd=len(list(filter(lambda a:a%2!=0,l)))\n",
    "print(\"even number \", even)\n",
    "print(\"oddd number \", odd)"
   ]
  },
  {
   "cell_type": "code",
   "execution_count": 228,
   "metadata": {},
   "outputs": [
    {
     "data": {
      "text/plain": [
       "[4, 16, 25, 36, 1, 9, 64]"
      ]
     },
     "execution_count": 228,
     "metadata": {},
     "output_type": "execute_result"
    }
   ],
   "source": [
    "a= lambda a:a**2\n",
    "l=[2,4,5,6,1,3,8]\n",
    "list(map(a,l))"
   ]
  },
  {
   "cell_type": "code",
   "execution_count": null,
   "metadata": {},
   "outputs": [],
   "source": []
  }
 ],
 "metadata": {
  "kernelspec": {
   "display_name": "Python 3",
   "language": "python",
   "name": "python3"
  },
  "language_info": {
   "codemirror_mode": {
    "name": "ipython",
    "version": 3
   },
   "file_extension": ".py",
   "mimetype": "text/x-python",
   "name": "python",
   "nbconvert_exporter": "python",
   "pygments_lexer": "ipython3",
   "version": "3.11.3"
  },
  "orig_nbformat": 4
 },
 "nbformat": 4,
 "nbformat_minor": 2
}
