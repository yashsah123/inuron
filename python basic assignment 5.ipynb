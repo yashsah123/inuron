{
 "cells": [
  {
   "attachments": {},
   "cell_type": "markdown",
   "metadata": {},
   "source": [
    "1. What does an empty dictionary's code look like?\n",
    "\n",
    "An empty dictionary is often represented by two empty curly brackets\n",
    "\n",
    "d = {} or d = dict()\n",
    "\n",
    "..........\n",
    "\n",
    "2. what is the value of dictionary value with key 'foo' and the value 42 ?\n",
    "\n",
    "{'foo':42}\n",
    "\n",
    "...........\n",
    "\n",
    "3. What is the most significant distinction between a dictionary and a list?\n",
    "\n",
    "Dictionaries are represented by {} where as listed are represented by [], The Items stored in a dictionary are Unordered , while the items in a list are ordered\n",
    "\n",
    "..........\n",
    "\n",
    "4. What happens if you try to access spam ['foo'] if spam is {'bar':100} ?\n",
    "\n",
    "we will get a KeyError: 'foo'\n",
    "\n",
    "..........\n",
    "\n",
    "5. if a dictionary is stored in spam,what is the difference between the expressions 'cat' in spam and 'cat' in spam.keys() ?\n",
    "\n",
    "There is no difference . The operator checks whether a value exits as a key in the dictionary or not\n",
    "\n",
    "..........\n",
    "\n",
    "6. if a dictionary is stored in spam,what is the difference between the expressions 'cat' in spam and 'cat' in spam.values() ?\n",
    "\n",
    "'cat' in spam checks whether there is a 'cat' key in the dictionary, while 'cat' in spam.values()\n",
    "checks whether there is a value 'cat' for one of the keys in spam.\n",
    "\n",
    "..........\n",
    "\n",
    "7. what is a shortcut for the following code ?\n",
    "\n",
    "if 'color' not in spam: spam['color'] ='black'\n",
    "\n",
    "spam.setdefault('color','black')\n",
    "\n",
    "..........\n",
    "\n",
    "8. How do you 'pretty print' dictionary values using which modules and function ?\n",
    "\n",
    "we can pretty print a dictionary using three functions\n",
    "by using pprint() function of pprint module\n"
   ]
  }
 ],
 "metadata": {
  "kernelspec": {
   "display_name": "Python 3",
   "language": "python",
   "name": "python3"
  },
  "language_info": {
   "name": "python",
   "version": "3.11.3"
  },
  "orig_nbformat": 4
 },
 "nbformat": 4,
 "nbformat_minor": 2
}
