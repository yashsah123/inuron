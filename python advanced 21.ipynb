{
 "cells": [
  {
   "cell_type": "markdown",
   "id": "65a92b4a",
   "metadata": {},
   "source": [
    "1. What is a probability distribution, exactly? If the values are meant to be random, how can you predict them at all ?\n",
    "\n",
    "* A probability distribution describes how a random variable is distributed.\n",
    "\n",
    "It tells us which values a random variable is most likely to take on and which values are less likely. Based on the previous data and the occurences of the random event, we can predict the outcome in terms of probabilities. "
   ]
  },
  {
   "cell_type": "markdown",
   "id": "fd92f3d5",
   "metadata": {},
   "source": [
    "----"
   ]
  },
  {
   "cell_type": "markdown",
   "id": "06c8734d",
   "metadata": {},
   "source": [
    "2. Is there a distinction between true random numbers and pseudo-random numbers, if there is one? Why are the latter considered “good enough”?\n",
    "\n",
    "* True Random Numbers are true physical values while pseudo-random numbers are generated internally by a program . Latter is considered good enough as they have sort of uniform\n",
    "distribution. "
   ]
  },
  {
   "cell_type": "markdown",
   "id": "b54b8e49",
   "metadata": {},
   "source": [
    "----"
   ]
  },
  {
   "cell_type": "markdown",
   "id": "1e19043f",
   "metadata": {},
   "source": [
    "3. What are the two main factors that influence the behaviour of a \"normal\" probability distribution ?\n",
    "\n",
    "* Normal Probability Distribution are influenced by two factors mean and the variance. "
   ]
  },
  {
   "cell_type": "markdown",
   "id": "762790f2",
   "metadata": {},
   "source": [
    "----"
   ]
  },
  {
   "cell_type": "markdown",
   "id": "e75110f5",
   "metadata": {},
   "source": [
    "4. Provide a real-life example of a normal distribution ?\n",
    "\n",
    "* A Real-life example of a normal distribution are heights or blood pressure measurements"
   ]
  },
  {
   "cell_type": "markdown",
   "id": "c349271c",
   "metadata": {},
   "source": [
    "----"
   ]
  },
  {
   "cell_type": "markdown",
   "id": "eba32f70",
   "metadata": {},
   "source": [
    "5. In the short term, how can you expect a probability distribution to behave? What do you think will happen as the number of trials grows ?\n",
    "\n",
    "* Variance will decrease with number of trials"
   ]
  },
  {
   "cell_type": "markdown",
   "id": "e8b059b5",
   "metadata": {},
   "source": [
    "---"
   ]
  },
  {
   "cell_type": "markdown",
   "id": "82eba016",
   "metadata": {},
   "source": [
    "6. What kind of object can be shuffled by using random.shuffle ?\n",
    "\n",
    "* lists (list), strings (str) and tuples (tuple) objects can be shuffled by using random.shuffle."
   ]
  },
  {
   "cell_type": "markdown",
   "id": "e1c53ddc",
   "metadata": {},
   "source": [
    "---"
   ]
  },
  {
   "cell_type": "markdown",
   "id": "c1ba9930",
   "metadata": {},
   "source": [
    "7. Describe the math package's general categories of functions ?\n",
    "\n",
    "* The Math package's general categories of functions are:\n",
    "1. Trigonometric functions\n",
    "\n",
    "2. Quadratic functions\n",
    "\n",
    "3. Exponential functions\n",
    "\n",
    "4. Hyperbolic functions\n",
    "\n",
    "5. Periodic functions\n",
    "\n",
    "6. Arithmetic functions\n",
    "\n",
    "7. Logarithimic functions\n",
    "\n",
    "8. Conversions to Integer"
   ]
  },
  {
   "cell_type": "markdown",
   "id": "d727f61b",
   "metadata": {},
   "source": [
    "---"
   ]
  },
  {
   "cell_type": "markdown",
   "id": "cbab2356",
   "metadata": {},
   "source": [
    "8. What is the relationship between exponentiation and logarithms ?\n",
    "\n",
    "* Exponentiation and logarithms are inverse of each other. "
   ]
  },
  {
   "cell_type": "markdown",
   "id": "da28fd21",
   "metadata": {},
   "source": [
    "---"
   ]
  },
  {
   "cell_type": "markdown",
   "id": "43787cec",
   "metadata": {},
   "source": [
    "9. What are the three logarithmic functions that Python supports ?\n",
    "\n",
    "* The Three Logarithmic Functions that Python supports are:\n",
    "\n",
    "1. log2(x) -  logarithmic value of x to base 2\n",
    "\n",
    "2. log10(x) - logarithmic value of x to base 10 \n",
    "\n",
    "3. log1p(a) - This function is used to compute logarithm(1+a) . "
   ]
  },
  {
   "cell_type": "markdown",
   "id": "65f26519",
   "metadata": {},
   "source": [
    "----"
   ]
  }
 ],
 "metadata": {
  "kernelspec": {
   "display_name": "Python 3",
   "language": "python",
   "name": "python3"
  },
  "language_info": {
   "codemirror_mode": {
    "name": "ipython",
    "version": 3
   },
   "file_extension": ".py",
   "mimetype": "text/x-python",
   "name": "python",
   "nbconvert_exporter": "python",
   "pygments_lexer": "ipython3",
   "version": "3.8.8"
  }
 },
 "nbformat": 4,
 "nbformat_minor": 5
}
