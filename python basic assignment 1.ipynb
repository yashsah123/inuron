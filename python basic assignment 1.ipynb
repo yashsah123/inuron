{
 "cells": [
  {
   "attachments": {},
   "cell_type": "markdown",
   "metadata": {},
   "source": [
    "1. In the below elements which of them are values or an expression? eg:- values can be\n",
    "integer or string and expressions will be mathematical operators.\n",
    "\n",
    "'*'= expression\n",
    "\n",
    "hello = value\n",
    "\n",
    "-87.8 = value\n",
    "\n",
    "'-' = expression\n",
    "\n",
    "/ = expression\n",
    "\n",
    "'+' = expression\n",
    "\n",
    "6 = value\n"
   ]
  },
  {
   "attachments": {},
   "cell_type": "markdown",
   "metadata": {},
   "source": [
    "2. What is the difference between string and variable?\n",
    "\n",
    "String: A string is a data type that represents a sequence of characters. It is used to store and manipulate textual data.\n",
    "\n",
    "Variable: A variable is a named storage location in a computer's memory that holds a value. It is used to store and represent data."
   ]
  },
  {
   "attachments": {},
   "cell_type": "markdown",
   "metadata": {},
   "source": [
    "3. Describe three different data types.\n",
    "\n",
    "Integer (int): The integer data type represents whole numbers without fractional parts. It can be used to store positive numbers, negative numbers, or zero.\n",
    "\n",
    "String (str): The string data type represents a sequence of characters. It is used to store textual data, such as names, sentences, or any combination of letters, numbers, and symbols.\n",
    "\n",
    "Boolean (bool): The boolean data type represents a binary value that can be either true or false.\n",
    "\n"
   ]
  },
  {
   "attachments": {},
   "cell_type": "markdown",
   "metadata": {},
   "source": [
    "4. What is an expression made up of? What do all expressions do?\n",
    "\n",
    "An expression is a combination of values, variables, operators, and function calls that can be evaluated to produce a result. It can represent a computation or a calculation. Expressions can include mathematical operations, logical comparisons, string concatenation, and more.\n",
    "\n",
    "Expressions serve various purposes in programming:\n",
    "\n",
    "Computation: Expressions are used to perform calculations and computations. They can combine numeric values, variables, and mathematical operators to generate a result.\n",
    "\n",
    "Comparison and Logical Operations: Expressions can include comparison operators (e.g., >, <, ==) and logical operators (e.g., &&, ||) to perform comparisons and logical operations. They are used to make decisions and control the flow of a program. For example, the expression 5 > 3 evaluates to true.\n",
    "\n",
    "String Manipulation: Expressions can manipulate strings by using operators like concatenation (+) or string formatting. They enable the construction, modification, and manipulation of textual data.\n",
    "\n",
    "Function Calls: Expressions can include function calls, which allow the execution of predefined or custom functions to perform specific tasks. The result of a function call can be part of a larger expression or used to modify data or perform further computations.\n",
    "\n",
    "Overall, expressions play a fundamental role in programming by enabling calculations, comparisons, logical operations, and the manipulation of different data types, ultimately producing a value as a result.\n",
    "\n",
    "\n",
    "\n",
    "\n",
    "\n",
    "\n"
   ]
  },
  {
   "attachments": {},
   "cell_type": "markdown",
   "metadata": {},
   "source": [
    "5. This assignment statements, like spam = 10. What is the difference between an expression and a statement?\n",
    "\n",
    "difference between expressions and statements is that expressions evaluate to a value, while statements perform an action or define behavior. Expressions are used within statements to compute values or determine conditions. Statements, on the other hand, are used to structure the overall program and define the sequence of actions to be executed."
   ]
  },
  {
   "attachments": {},
   "cell_type": "markdown",
   "metadata": {},
   "source": [
    "6. After running the following code, what does the variable bacon contain?\n",
    "\n",
    "bacon = 22\n",
    "\n",
    "bacon + 1\n",
    "\n",
    "bacon+1=23"
   ]
  },
  {
   "attachments": {},
   "cell_type": "markdown",
   "metadata": {},
   "source": [
    "7. What should the values of the following two terms be?\n",
    "\n",
    "'spam'+ 'spamspam' = 'spamspamspam',\n",
    "\n",
    "'spam' * 3 = 'spamspamspam'"
   ]
  },
  {
   "attachments": {},
   "cell_type": "markdown",
   "metadata": {},
   "source": [
    "8. Why is eggs a valid variable name while 100 is invalid?\n",
    "\n",
    "Validity of eggs as a variable name:\n",
    "\n",
    "Variable names can typically consist of letters (uppercase or lowercase), digits, and underscores.\n",
    "They must start with a letter or an underscore.\n",
    "They are case-sensitive\n",
    "As per these rules, eggs follows the guidelines for variable naming and is considered valid.\n",
    "\n",
    "Invalidity of 100 as a variable name:\n",
    "\n",
    "Variable names cannot start with a digit.\n",
    "In this case, 100 begins with the digit 1, violating the rule.\n",
    "Variable names need to start with a letter or an underscore, not with a numeric digit."
   ]
  },
  {
   "attachments": {},
   "cell_type": "markdown",
   "metadata": {},
   "source": [
    "9. What three functions can be used to get the integer, floating-point number, or string version of a value?\n",
    "\n",
    "Integer conversion function: int()\n",
    "The int() function can be used to convert a value into an integer.\n",
    "\n",
    "Floating-point conversion function: float()\n",
    "The float() function can be used to convert a value into a floating-point number.\n",
    "\n",
    "String conversion function: str()\n",
    "The str() function can be used to convert a value into a string..\n",
    "\n",
    "\n",
    "\n"
   ]
  },
  {
   "attachments": {},
   "cell_type": "markdown",
   "metadata": {},
   "source": [
    "10. Why does this expression cause an error? How can you fix it?\n",
    "'I have eaten ' + 99 + ' burritos'\n",
    "\n",
    "he given expression 'I have eaten ' + 99 + ' burritos' causes an error because it attempts to concatenate a string ('I have eaten ') with an integer (99) \n",
    "\n",
    "solution: we can use  string conversion function str() on integer (99) or write it inside  ' ' . "
   ]
  }
 ],
 "metadata": {
  "kernelspec": {
   "display_name": "Python 3",
   "language": "python",
   "name": "python3"
  },
  "language_info": {
   "name": "python",
   "version": "3.11.3"
  },
  "orig_nbformat": 4
 },
 "nbformat": 4,
 "nbformat_minor": 2
}
