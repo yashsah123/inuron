{
 "cells": [
  {
   "cell_type": "markdown",
   "id": "91f50838",
   "metadata": {},
   "source": [
    "1. What is the relationship between classes and modules?\n",
    "\n",
    "* A Python class is like an outline/blueprint/mold for creating a new object. An object is anything that you wish to manipulate or change while working through the code. Every time a class object is instantiated, which is when we declare a variable, a new object is initiated from scratch.\n",
    "\n",
    "Whereas in Python, Modules are simply files with the `. py` extension containing Python code that can be imported inside another Python Program. In simple terms, we can consider a module to be the same as a code library or a file that contains a set of functions/Classes that you want to include in your application."
   ]
  },
  {
   "cell_type": "markdown",
   "id": "87eb3f05",
   "metadata": {},
   "source": [
    "----"
   ]
  },
  {
   "cell_type": "markdown",
   "id": "92be3b82",
   "metadata": {},
   "source": [
    "2. How do you make instances and classes?\n",
    "\n",
    "* For creating a class instance. we call a class by its name and pass the arguments which its `__init__` method accepts.\n",
    "\n",
    "Example: `company = employee('shubham',20000)`, Here company is an instance of class employee with attriubutes 'shubham' and 20000.\n",
    "\n",
    "Whereas for creating a class, we use the `Class` keyword. Class keyword is followed by classname and semicolon.\n",
    "\n",
    "Example: Here Employee is a class created with `class` keyword with arguments name and salary. \n",
    "\n",
    "class Employee:\n",
    "\n",
    "def `__init__`(self, name,salary):\n",
    "\n",
    "        self.name = name\n",
    "        \n",
    "        self.salary = salary"
   ]
  },
  {
   "cell_type": "markdown",
   "id": "f0df7707",
   "metadata": {},
   "source": [
    "----"
   ]
  },
  {
   "cell_type": "markdown",
   "id": "4cfb843c",
   "metadata": {},
   "source": [
    "3. Where and how should be class attributes created?\n",
    "\n",
    "* Class attributes or Class level Attributes belong to the class itself. these attributes will be shared by all the instances of the class. Hence these attributes are usually created/defined in the top of class definiation outside all methods.\n",
    "\n",
    "Example: In the below code we are defining a class attribute called no_of_wheels which will be shared by all the instances of the class Car\n",
    "\n",
    "    class Car:\n",
    "\n",
    "        no_of_wheels = 4; \n",
    "\n",
    "        def __init__(self,color,price,engine):\n",
    "\n",
    "            self.color = color\n",
    "\n",
    "            self.price = price\n",
    "        \n",
    "            self.engine = engine"
   ]
  },
  {
   "cell_type": "markdown",
   "id": "bc97df1a",
   "metadata": {},
   "source": [
    "----"
   ]
  },
  {
   "cell_type": "markdown",
   "id": "47c44e75",
   "metadata": {},
   "source": [
    "4. Where and how are instance attributes created?\n",
    "\n",
    "* Instances attributes are passed to the class when an object of the class is created. Unlike class attributes, instance attributes are not shared by all objects of the classs. instead each object maintains its own copy of instance attributes at object level. whereas incase of class attributes all instances of class refer to a single copy. Usually instance attributes are defined within the **`__init__`** method of class\n",
    "\n",
    "* In the below sample code we are creating a class Car with instance varaibles color, price, engine, which will be provided when an instance of class Car is created.\n",
    "\n",
    "`class Car:\n",
    "    def __init__(self,color,price,engine):\n",
    "\n",
    "        self.color = color # 'All this are instance attributes'\n",
    "\n",
    "        self.price = price\n",
    "\n",
    "        self.engine = engine`\n",
    "        \n",
    "`nexon_ev = Car('Indigo Blue', 1400000, 'electric')`  \n",
    "\n",
    "`safari = Car('Pearl White',2100000, 'petrol')`\n",
    "\n",
    "nexon_ev, safari are both the instances of class Car with different instance variables."
   ]
  },
  {
   "cell_type": "markdown",
   "id": "33a09786",
   "metadata": {},
   "source": [
    "----"
   ]
  },
  {
   "cell_type": "markdown",
   "id": "0ed28045",
   "metadata": {},
   "source": [
    "5. What does the term \"self\" in a Python class mean?\n",
    "\n",
    "* `self` represents the instance of the class (it represents the object itself). By using the “self” keyword we can access the attributes and methods of the class with in the class in python. It binds the attributes with the given arguments."
   ]
  },
  {
   "cell_type": "code",
   "execution_count": 9,
   "id": "7864bf87",
   "metadata": {},
   "outputs": [],
   "source": [
    "class Car:\n",
    "    def __init__(self,color,price,engine):\n",
    "        self.color = color # All this are instance attributes\n",
    "        self.price = price\n",
    "        self.engine = engine\n",
    "\n",
    "nexon_ev = Car('Blue', 100000, 'electric')\n",
    "safari = Car('White',400000, 'desel')\n",
    "\n"
   ]
  },
  {
   "cell_type": "markdown",
   "id": "2ec5f9c9",
   "metadata": {},
   "source": [
    "----"
   ]
  },
  {
   "cell_type": "markdown",
   "id": "f58ed1f8",
   "metadata": {},
   "source": [
    "6. How does a Python class handle operator overloading?\n",
    "\n",
    "* Python Classes handle operator overloading by using special methods called **Magic methods**. these special methods usually begin and end with `__`(double underscore)  \n",
    "\n",
    "Example: Magic methods for basic arithmetic operators are:\n",
    "\n",
    "- `+ -> __add__()`\n",
    "\n",
    "- `- -> __sub__()`\n",
    "\n",
    "- `* -> __mul__()`\n",
    "\n",
    "- `/ -> __div__()`"
   ]
  },
  {
   "cell_type": "code",
   "execution_count": 10,
   "id": "60294cc1",
   "metadata": {},
   "outputs": [
    {
     "name": "stdout",
     "output_type": "stream",
     "text": [
      "The total number of pages in 2 books is 300\n"
     ]
    }
   ],
   "source": [
    "class Book:\n",
    "    def __init__(self,pages):\n",
    "        self.pages = pages\n",
    "    def __add__(self,other):\n",
    "        return self.pages + other.pages\n",
    "b1 = Book(100)\n",
    "b2 = Book(200)\n",
    "print(f'The total number of pages in 2 books is {b1+b2}')"
   ]
  },
  {
   "cell_type": "markdown",
   "id": "bc90d94c",
   "metadata": {},
   "source": [
    "----"
   ]
  },
  {
   "cell_type": "markdown",
   "id": "439d9d7e",
   "metadata": {},
   "source": [
    "7. When do you consider allowing operator overloading of your classes?\n",
    "\n",
    "* When we want to have different meaning for the same operator accroding to the context we use operator overloading."
   ]
  },
  {
   "cell_type": "markdown",
   "id": "9fe703a1",
   "metadata": {},
   "source": [
    "----"
   ]
  },
  {
   "cell_type": "markdown",
   "id": "0cd1ea24",
   "metadata": {},
   "source": [
    "8. What is the most popular form of operator overloading?\n",
    "\n",
    "* The most popular form of operator overloading in python is by special methods called Magic methods. Which usually beign and end with double underscore `__<method name>__`."
   ]
  },
  {
   "cell_type": "code",
   "execution_count": 11,
   "id": "f8444677",
   "metadata": {},
   "outputs": [
    {
     "name": "stdout",
     "output_type": "stream",
     "text": [
      "Sum -> 3\n",
      "String Concatenation -> himanshu kumar\n"
     ]
    }
   ],
   "source": [
    "class A:\n",
    "    def __init__(self,a):\n",
    "        self.a = a\n",
    "    def __add__(self,o):\n",
    "        return self.a+o.a\n",
    "obj1 = A(1)\n",
    "obj2 = A(2)\n",
    "obj3 = A('himanshu')\n",
    "obj4 = A(' kumar')\n",
    "print(f'Sum -> {obj1+obj2}')\n",
    "print(f'String Concatenation -> {obj3+obj4}')"
   ]
  },
  {
   "cell_type": "markdown",
   "id": "0ec747d0",
   "metadata": {},
   "source": [
    "----"
   ]
  },
  {
   "cell_type": "markdown",
   "id": "3ff6f7f0",
   "metadata": {},
   "source": [
    "9. What are the two most important concepts to grasp in order to comprehend Python OOP code?\n",
    "\n",
    "* Classes and objects are the two concepts to comprehend python OOP code as more formally objects are entities that represent instances of general abstract concept called class\n",
    "\n",
    "Along with classes and objects the important concepts to grasp are:\n",
    "\n",
    "1. Inheritence\n",
    "\n",
    "2. Abstraction\n",
    "\n",
    "3. Polymorphism\n",
    "\n",
    "4. Encapsulation"
   ]
  },
  {
   "cell_type": "markdown",
   "id": "9262d75a",
   "metadata": {},
   "source": [
    "----"
   ]
  }
 ],
 "metadata": {
  "kernelspec": {
   "display_name": "Python 3",
   "language": "python",
   "name": "python3"
  },
  "language_info": {
   "codemirror_mode": {
    "name": "ipython",
    "version": 3
   },
   "file_extension": ".py",
   "mimetype": "text/x-python",
   "name": "python",
   "nbconvert_exporter": "python",
   "pygments_lexer": "ipython3",
   "version": "3.11.3"
  }
 },
 "nbformat": 4,
 "nbformat_minor": 5
}
