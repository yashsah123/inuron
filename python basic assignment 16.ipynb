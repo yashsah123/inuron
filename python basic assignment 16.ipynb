{
 "cells": [
  {
   "attachments": {},
   "cell_type": "markdown",
   "metadata": {},
   "source": [
    "1. Create a list called years_list, starting with the year of your birth, and each year thereafter until the year of your fifth birthday. For example, if you were born in 1980. the list would be years_list = [1980, 1981, 1982, 1983, 1984, 1985].\n"
   ]
  },
  {
   "cell_type": "code",
   "execution_count": 7,
   "metadata": {},
   "outputs": [
    {
     "name": "stdout",
     "output_type": "stream",
     "text": [
      "[1999, 2000, 2001, 2002, 2003]\n"
     ]
    }
   ],
   "source": [
    "dob = 1999\n",
    "years_list=[]\n",
    "\n",
    "for i in range (5):\n",
    "    i=i+dob\n",
    "    years_list.append(i)\n",
    "print(years_list)\n"
   ]
  },
  {
   "attachments": {},
   "cell_type": "markdown",
   "metadata": {},
   "source": [
    "----"
   ]
  },
  {
   "attachments": {},
   "cell_type": "markdown",
   "metadata": {},
   "source": [
    "2. In which year in years_list was your third birthday? Remember, you were 0 years of age for your first year.\n"
   ]
  },
  {
   "cell_type": "code",
   "execution_count": 9,
   "metadata": {},
   "outputs": [
    {
     "data": {
      "text/plain": [
       "2002"
      ]
     },
     "execution_count": 9,
     "metadata": {},
     "output_type": "execute_result"
    }
   ],
   "source": [
    "years_list[3]"
   ]
  },
  {
   "attachments": {},
   "cell_type": "markdown",
   "metadata": {},
   "source": [
    "3. In the years list, which year were you the oldest?\n"
   ]
  },
  {
   "cell_type": "code",
   "execution_count": 10,
   "metadata": {},
   "outputs": [
    {
     "data": {
      "text/plain": [
       "2003"
      ]
     },
     "execution_count": 10,
     "metadata": {},
     "output_type": "execute_result"
    }
   ],
   "source": [
    "years_list[-1]"
   ]
  },
  {
   "cell_type": "code",
   "execution_count": 13,
   "metadata": {},
   "outputs": [
    {
     "name": "stdout",
     "output_type": "stream",
     "text": [
      "['mozzarella', 'Cinderella', 'salmonella']\n"
     ]
    }
   ],
   "source": [
    "\n"
   ]
  },
  {
   "attachments": {},
   "cell_type": "markdown",
   "metadata": {},
   "source": [
    "\n",
    "\n",
    "------------------------------------------------------------------------------------------------------------------------------------------------------------------------------------------------------------------\n",
    "\n",
    "4. Make a list called things with these three strings as elements: \"mozzarella\", \"cinderella\", \"salmonella\".\n",
    "\n",
    "things = ['mozzarella','cinderella','salmonella']\n",
    "\n",
    "-----\n",
    "\n",
    "5. capitalize the element in things that refers to a person and then print the list. Did it change the element in the list?\n",
    "\n",
    "This capitalizes the word, but doesn’t change it in the list:\n",
    "\n",
    "\n",
    "things[1].capitalize()\n",
    "\n",
    "'Cinderella'\n",
    "\n",
    "things_cap\n",
    "\n",
    "['mozzarella', 'cinderella', 'salmonella']\n",
    "\n",
    "-----\n",
    "\n",
    "6. Make a surprise list with the elements \"Groucho,\" \"Chico,\" and \"Harpo.\"\n",
    "\n",
    "surprise = ['Groucho', 'Chico', 'Harpo']\n",
    "\n",
    "surprise\n",
    "\n",
    "['Groucho', 'Chico', 'Harpo']\n",
    "\n",
    "-----\n",
    "\n",
    "7. Lowercase the last element of the surprise list, reverse it, and then capitalize it\n",
    "\n",
    "\n",
    "surprise[-1] = surprise[-1].lower()\n",
    "\n",
    "surprise[-1] = surprise[-1][::-1]\n",
    "\n",
    "surprise[-1].capitalize()\n",
    "\n",
    "'Oprah'\n",
    "\n",
    "----\n",
    "\n",
    "8. Make an English-to-French dictionary called e2f and print it. Here are your starter words: dog is chien, cat is chat, and walrus is morse.\n",
    "\n",
    "e2f = {'dog': 'chien', 'cat': 'chat', 'walrus': 'morse'}\n",
    "\n",
    "e2f\n",
    "\n",
    "{'dog': 'chien', 'cat': 'chat', 'walrus': 'morse'}\n",
    "\n",
    "----\n",
    "\n",
    "9. Write the French word for walrus  in your three-word dictionary e2f.\n",
    "\n",
    "\n",
    "e2f['walrus']\n",
    "\n",
    "'morse'\n",
    "\n",
    "----\n",
    "\n",
    "10. Make a French-to-English dictionary called f2e from e2f. Use the items method.\n",
    "\n",
    "\n",
    "f2e = {}\n",
    "\n",
    "for english, french in e2f.items():\n",
    "\n",
    "f2e[french] = english\n",
    "\n",
    "f2e\n",
    "\n",
    "{'chien': 'dog', 'chat': 'cat', 'morse': 'walrus'}\n",
    "\n",
    "----\n",
    "\n",
    "11. Print the English version of the French word chien using f2e.\n",
    "\n",
    "f2e['chien']\n",
    "\n",
    "'dog'\n",
    "\n",
    "----\n",
    "\n",
    "12. Make and print a set of English words from the keys in e2f.\n",
    "\n",
    "set(e2f.keys())\n",
    "\n",
    "{'cat', 'dog', 'walrus'}\n",
    "\n",
    "----\n",
    "\n",
    "13. Make a multilevel dictionary called life. Use these strings for the topmost keys: 'animals', 'plants', and 'other'. Make the 'animals' key refer to another dictionary with the keys 'cats', 'octopi', and 'emus'. Make the 'cats' key refer to a list of strings with the values 'Henri', 'Grumpy', and 'Lucy'. Make all the other keys refer to empty dictionaries.\n",
    "\n",
    "life = {'animals': {'cats': ['Henri', 'Grumpy', 'Lucy'],'octopi': {},'emus': {}},'plants': {},'other': {}}\n",
    "\n",
    "life\n",
    "\n",
    "{'animals': {'cats': ['Henri', 'Grumpy', 'Lucy'], 'octopi': {}, 'emus': {}},\n",
    "\n",
    " 'plants': {},\n",
    "\n",
    " 'other': {}}\n",
    "\n",
    "----\n",
    "\n",
    "14. Print the top-level keys of life.\n",
    "\n",
    "print(life.keys())\n",
    "\n",
    "dict_keys(['animals', 'plants', 'other'])\n",
    "\n",
    "-----\n",
    "\n",
    "15. Print the keys for life['animals'].\n",
    "\n",
    "print(life['animals'].keys())\n",
    "\n",
    "dict_keys(['cats', 'octopi', 'emus'])\n",
    "\n",
    "----\n",
    "\n",
    "16. Print the values for life['animals']['cats']\n",
    "\n",
    "print(life['animals']['cats'])\n",
    "\n",
    "['Henri', 'Grumpy', 'Lucy']\n",
    "\n",
    "----"
   ]
  },
  {
   "cell_type": "code",
   "execution_count": null,
   "metadata": {},
   "outputs": [],
   "source": []
  },
  {
   "cell_type": "code",
   "execution_count": 2,
   "metadata": {},
   "outputs": [],
   "source": [
    "\n"
   ]
  },
  {
   "cell_type": "code",
   "execution_count": null,
   "metadata": {},
   "outputs": [],
   "source": []
  }
 ],
 "metadata": {
  "kernelspec": {
   "display_name": "Python 3",
   "language": "python",
   "name": "python3"
  },
  "language_info": {
   "codemirror_mode": {
    "name": "ipython",
    "version": 3
   },
   "file_extension": ".py",
   "mimetype": "text/x-python",
   "name": "python",
   "nbconvert_exporter": "python",
   "pygments_lexer": "ipython3",
   "version": "3.11.3"
  },
  "orig_nbformat": 4
 },
 "nbformat": 4,
 "nbformat_minor": 2
}
