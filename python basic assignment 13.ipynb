{
 "cells": [
  {
   "attachments": {},
   "cell_type": "markdown",
   "metadata": {},
   "source": [
    "\n",
    "1. What advantages do Excel spreadsheets have over CSV spreadsheets?\n",
    "\n",
    "\n",
    "In Excel, spreadsheets can have values of datatypes other than strings; cells can have different fonts, sizes, or color settings; cells can have varying widths and heights; adjecent cells can be merged; and we can embed images and charts. Excel supports a wide range of built-in formulas and functions, such as SUM, AVERAGE, VLOOKUP, and IF statements. Excel provides a variety of chart types and customization options to visually represent data. Excel offers powerful data analysis features, including PivotTables\n",
    "\n",
    "----\n",
    "\n",
    "2. What do you pass to csv.reader() and csv.writer() to create reader and writer objects?\n",
    "\n",
    "\n",
    "We pass a file object, obtained from call to open().\n",
    "\n",
    "----\n",
    "\n",
    "3. What modes do File objects for reader and writer objects need to be opened in?\n",
    "\n",
    "File objects need to be opened in read-binary ('rb') for reader objects and write-binary ('wb') fro writer objects.\n",
    "\n",
    "----\n",
    "\n",
    "4. What method takes a list argument and writes it to a CSV file?\n",
    "\n",
    "The writerrow() method.\n",
    "\n",
    "----\n",
    "\n",
    "5. What do the keyword arguments delimiter and line terminator do?\n",
    "\n",
    "The delimeter argument change the string used to separate cells in a row. The lineterminator argument changes the string used to separate rows.\n",
    "\n",
    "----\n",
    "\n",
    "6. What function takes a string of JSON data and returns a Python data structure?\n",
    "\n",
    "json.loads()\n",
    "\n",
    "----\n",
    "\n",
    "7. What function takes a Python data structure and returns a string of JSON data?\n",
    "\n",
    "json.dumps()\n",
    "\n",
    "----"
   ]
  }
 ],
 "metadata": {
  "kernelspec": {
   "display_name": "Python 3",
   "language": "python",
   "name": "python3"
  },
  "language_info": {
   "name": "python",
   "version": "3.11.3"
  },
  "orig_nbformat": 4
 },
 "nbformat": 4,
 "nbformat_minor": 2
}
