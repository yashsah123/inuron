{
 "cells": [
  {
   "cell_type": "code",
   "execution_count": null,
   "metadata": {},
   "outputs": [],
   "source": [
    "#1. What are escape characters, and how do you use them?\n",
    "\n",
    "#Escape characters represent characters in string values that would otherwise be difficult or impossible to type into code.\n",
    "\n",
    "data = \"this is assignment for  \\\"iNeuron's\\\" data science basic python assignment.\"\n",
    "\n",
    "print(data) \n",
    "\n",
    "# output: this is assignment for  \"iNeuron's\" data science basic python assignment.\n"
   ]
  },
  {
   "attachments": {},
   "cell_type": "markdown",
   "metadata": {},
   "source": [
    "2. What do the escape characters n and t stand for?\n",
    "\n",
    "The escape characters  \\n is a newline ,  \\t is a tab\n",
    "\n",
    ".........."
   ]
  },
  {
   "attachments": {},
   "cell_type": "markdown",
   "metadata": {},
   "source": [
    "3. What is the way to include backslash characters in a string?\n",
    "\n",
    "To include a backslash character in a string, you need to escape it by using another backslash.\n",
    "\n",
    "string = \"This is a backslash: \\\\\\\\\\\"\n",
    "\n",
    ".........."
   ]
  },
  {
   "attachments": {},
   "cell_type": "markdown",
   "metadata": {},
   "source": [
    "4. The string \"Howl's Moving Castle\" is a correct value. Why isn't the single quote character in the word Howl's not escaped a problem?\n",
    "\n",
    "The single quote in Howl's is fine because we have used double quotes to mark the beginning and end of the string.\n",
    "\n",
    ".........."
   ]
  },
  {
   "attachments": {},
   "cell_type": "markdown",
   "metadata": {},
   "source": [
    "5. How do you write a string of newlines if you don't want to use the n character?\n",
    "\n",
    "if you don't want to use the n character , you can use triple quotes to create a string with multiple lines.\n",
    "\n",
    ".........."
   ]
  },
  {
   "attachments": {},
   "cell_type": "markdown",
   "metadata": {},
   "source": [
    "6. What are the values of the given expressions?\n",
    "\n",
    "'Hello, world!'[1]   = 'e'\n",
    "\n",
    "'Hello, world!'[0:5] = 'Hello'\n",
    "\n",
    "'Hello, world!'[:5]  = 'Hello'\n",
    "\n",
    "'Hello, world!'[3:]  = 'lo, world!'\n",
    "\n",
    ".........."
   ]
  },
  {
   "attachments": {},
   "cell_type": "markdown",
   "metadata": {},
   "source": [
    "7. What are the values of the following expressions?\n",
    "\n",
    "'Hello'.upper()             = 'HELLO'\n",
    "\n",
    "'Hello'.upper().isupper()   =  True\n",
    "\n",
    "'Hello'.upper().lower()     = 'hello'\n",
    "\n",
    ".........."
   ]
  },
  {
   "attachments": {},
   "cell_type": "markdown",
   "metadata": {},
   "source": [
    "8. What are the values of the following expressions?\n",
    "\n",
    "'Remember, remember, the fifth of July.&'.split()   =  \n",
    "\n",
    " ['Remember,', 'remember,', 'the', 'fifth', 'of', 'July.&']\n",
    "\n",
    "'-'.join('There can only one.'.split())    =   \n",
    "\n",
    " 'There-can-only-one.'\n",
    "\n",
    ".........."
   ]
  },
  {
   "attachments": {},
   "cell_type": "markdown",
   "metadata": {},
   "source": [
    "9. What are the methods for right-justifying, left-justifying, and centering a string?\n",
    "\n",
    "The rjust(), ljust(), and center() string methods, respectively are the methods for right-justifying, left-justifying, and centering a string\n",
    "\n",
    "10. What is the best way to remove whitespace characters from the start or end?\n",
    "\n",
    "The lstrip() and rstrip() methods remove whitespace from the left and right ends of a string, respectively."
   ]
  }
 ],
 "metadata": {
  "kernelspec": {
   "display_name": "Python 3",
   "language": "python",
   "name": "python3"
  },
  "language_info": {
   "codemirror_mode": {
    "name": "ipython",
    "version": 3
   },
   "file_extension": ".py",
   "mimetype": "text/x-python",
   "name": "python",
   "nbconvert_exporter": "python",
   "pygments_lexer": "ipython3",
   "version": "3.11.3"
  },
  "orig_nbformat": 4
 },
 "nbformat": 4,
 "nbformat_minor": 2
}
