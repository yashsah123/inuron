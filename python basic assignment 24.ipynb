{
 "cells": [
  {
   "attachments": {},
   "cell_type": "markdown",
   "id": "3267a0e0",
   "metadata": {},
   "source": [
    "1. What is the relationship between def statements and lambda expressions ?\n",
    "\n",
    "def: statement is used to create a normal function.\n",
    "\n",
    "lamba: expressions are used to create Anonymous functions.Lambda's body is a single expression and not a block of statements like def statement.\n",
    "\n",
    "however they are  like regular functions, can accept several parameters."
   ]
  },
  {
   "attachments": {},
   "cell_type": "markdown",
   "id": "90c30fc3",
   "metadata": {},
   "source": [
    "----"
   ]
  },
  {
   "attachments": {},
   "cell_type": "markdown",
   "id": "e23f6be0",
   "metadata": {},
   "source": [
    "2. What is the benefit of lambda?\n",
    "\n",
    "The following are some of the benefits of lambda expressions: \n",
    "\n",
    "1. Can be used to create Nameless/Anonymous functions inside some complex functions if we are planning to use it only once.\n",
    "\n",
    "2. Moderate to small functions can be created in a single line\n",
    "\n",
    "3. Fuctions created using lambda expressions can be assigned to a variable and can be used by simply calling the variable"
   ]
  },
  {
   "attachments": {},
   "cell_type": "markdown",
   "id": "7b38bc1d",
   "metadata": {},
   "source": [
    "----"
   ]
  },
  {
   "attachments": {},
   "cell_type": "markdown",
   "id": "c0abb1a0",
   "metadata": {},
   "source": [
    "3. Compare and contrast map, filter, and reduce.\n",
    "\n",
    "The differences between map, filter and reduce are: \n",
    "\n",
    "1. map(): The map() function is a type of higher-order. This function takes another function as a parameter along with a sequence of iterables and returns an output after applying the function to each iterable present in the sequence.\n",
    "\n",
    "2. filter(): The filter() function is used to create an output list consisting of values for which the function returns true.\n",
    "\n",
    "3. reduce(): The reduce() function, as the name describes, applies a given function to the iterables and returns a single value"
   ]
  },
  {
   "cell_type": "code",
   "execution_count": 2,
   "id": "a96df72c",
   "metadata": {},
   "outputs": [
    {
     "name": "stdout",
     "output_type": "stream",
     "text": [
      "Map : [2, 4, 6, 8]\n",
      "Filter : [1, 3]\n",
      "Reduce : 10\n"
     ]
    }
   ],
   "source": [
    "from functools import reduce\n",
    "# map function\n",
    "print('Map :',list(map(lambda x:x+x, [1,2,3,4])))\n",
    "\n",
    "# fitler function\n",
    "print('Filter :',list(filter(lambda x:x%2 !=0, [1,2,3,4])))\n",
    "\n",
    "# reduce function\n",
    "print('Reduce :',reduce(lambda x,y:x+y, [1,2,3,4]))"
   ]
  },
  {
   "attachments": {},
   "cell_type": "markdown",
   "id": "0e177140",
   "metadata": {},
   "source": [
    "----"
   ]
  },
  {
   "attachments": {},
   "cell_type": "markdown",
   "id": "ed66668e",
   "metadata": {},
   "source": [
    "4. What are function annotations, and how are they used?\n",
    "\n",
    "Function annotations provide a way of associating various parts of a function with arbitrary pythoncexpressions at compile time.   \n",
    "\n",
    "Annotations of simple parameters `def func(x: expression, y: expression = 20):`  \n",
    "\n",
    "Whereas the annotations for excess parameters are as − `def func (**args: expression, **kwargs: expression):`"
   ]
  },
  {
   "attachments": {},
   "cell_type": "markdown",
   "id": "acabbe43",
   "metadata": {},
   "source": [
    "----"
   ]
  },
  {
   "attachments": {},
   "cell_type": "markdown",
   "id": "e91c02f9",
   "metadata": {},
   "source": [
    "5. What are recursive functions, and how are they used?\n",
    "\n",
    "A recursive function is a function that calls itself during its execution. The process may repeat several times, outputting the result and the end of each iteration. "
   ]
  },
  {
   "attachments": {},
   "cell_type": "markdown",
   "id": "a2ee4e3f",
   "metadata": {},
   "source": [
    "----"
   ]
  },
  {
   "attachments": {},
   "cell_type": "markdown",
   "id": "0616de68",
   "metadata": {},
   "source": [
    "6. What are some general design guidelines for coding functions?\n",
    "\n",
    "Some of the general design guidelines for coding functions are:\n",
    "\n",
    "1. Always use a docstring to explain the functionality of the function\n",
    "\n",
    "2. avoid using or limited use of global variables\n",
    "\n",
    "3. Proper Identation to increase the code readability \n",
    "\n",
    "4. try to follow a naming convention for function names (pascalCase or camelCase) and stick with the same convention throughout the application.\n",
    "\n",
    "5. Avoid using digits while choosing a variable name\n",
    "\n",
    "6. try to use a name for the function which conveys the purpose of the function\n",
    "\n",
    "7. Code should be easily understandable. The complex code makes maintenance and debugging difficult and expensive.\n",
    "\n",
    "8. Lengthy functions are very difficult to understand. That’s why functions should be small enough to carry out small work and lengthy functions should be broken into small ones for completing small tasks."
   ]
  },
  {
   "attachments": {},
   "cell_type": "markdown",
   "id": "64507ff6",
   "metadata": {},
   "source": [
    "----"
   ]
  },
  {
   "attachments": {},
   "cell_type": "markdown",
   "id": "50555ec6",
   "metadata": {},
   "source": [
    "7. Name three or more ways that functions can communicate results to a caller.\n",
    "\n",
    "Some of the ways in which a function can communicate with the calling function is:\n",
    "\n",
    "1. print\n",
    "\n",
    "2. return\n",
    "\n",
    "3. yield"
   ]
  },
  {
   "attachments": {},
   "cell_type": "markdown",
   "id": "d2f1ac66",
   "metadata": {},
   "source": [
    "----"
   ]
  },
  {
   "attachments": {},
   "cell_type": "markdown",
   "id": "81303800",
   "metadata": {},
   "source": []
  }
 ],
 "metadata": {
  "kernelspec": {
   "display_name": "Python 3",
   "language": "python",
   "name": "python3"
  },
  "language_info": {
   "codemirror_mode": {
    "name": "ipython",
    "version": 3
   },
   "file_extension": ".py",
   "mimetype": "text/x-python",
   "name": "python",
   "nbconvert_exporter": "python",
   "pygments_lexer": "ipython3",
   "version": "3.11.3"
  }
 },
 "nbformat": 4,
 "nbformat_minor": 5
}
