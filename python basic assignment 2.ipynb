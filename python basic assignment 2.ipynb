{
 "cells": [
  {
   "attachments": {},
   "cell_type": "markdown",
   "metadata": {},
   "source": [
    "1.What are the two values of the Boolean data type? How do you write them?\n",
    "\n",
    "Boolean data type represents logical values that can be either true or false.\n",
    "in Python these values are written as True and False with the first letter capitalized.\n",
    "\n"
   ]
  },
  {
   "attachments": {},
   "cell_type": "markdown",
   "metadata": {},
   "source": [
    "2. What are the three different types of Boolean operators? \n",
    "\n",
    "The three different types of Boolean operators are:\n",
    "\n",
    "Logical AND operator (and): The logical AND operator takes two Boolean operands and returns True if both operands are True, otherwise it returns False\n",
    "\n",
    "Logical OR operator (or): The logical OR operator takes two Boolean operands and returns True if at least one of the operands is True, otherwise it returns False. \n",
    "\n",
    "Logical NOT operator (not):  The logical NOT operator takes a single Boolean operand and returns the inverse of its value. It returns True if the operand is False, and False if the operand is True. "
   ]
  },
  {
   "attachments": {},
   "cell_type": "markdown",
   "metadata": {},
   "source": [
    "3. Make a list of each Boolean operators truth tables (i.e. every possible combination of Boolean values for the operator and what it evaluate). \n",
    "\n",
    "The three different types of Boolean operators are:\n",
    "\n",
    "1 Logical AND operator (and): \n",
    "\n",
    "True and True evaluates to True\n",
    "\n",
    "True and False evaluates to False\n",
    "\n",
    "False and False evaluates to False\n",
    "\n",
    "2 Logical OR operator (or): \n",
    "\n",
    "True or True evaluates to True\n",
    "\n",
    "True or False evaluates to True\n",
    "\n",
    "False or False evaluates to False\n",
    "\n",
    "3 Logical NOT operator (not):\n",
    "\n",
    "not True evaluates to False\n",
    "\n",
    "not False evaluates to True\n"
   ]
  },
  {
   "attachments": {},
   "cell_type": "markdown",
   "metadata": {},
   "source": [
    "4. What are the values of the following expressions?  \n",
    "\n",
    "(5 > 4) and (3 == 5) = False\n",
    "\n",
    "not (5 > 4) = False\n",
    "\n",
    "(5 > 4) or (3 == 5) = True \n",
    "\n",
    "not ((5 > 4) or (3 == 5)) = False\n",
    "\n",
    "(True and True) and (True == False) = False \n",
    "\n",
    "(not False) or (not True) = True "
   ]
  },
  {
   "attachments": {},
   "cell_type": "markdown",
   "metadata": {},
   "source": [
    "5. What are the six comparison operators?\n",
    "\n",
    "1.Equal to (==)\n",
    "\n",
    "2.Not equal to (!=)\n",
    "\n",
    "3.Greater than (>)\n",
    "\n",
    "4.Less than (<)\n",
    "\n",
    "5.Greater than or equal to (>=)\n",
    "\n",
    "6.Less than or equal to (<=)"
   ]
  },
  {
   "attachments": {},
   "cell_type": "markdown",
   "metadata": {},
   "source": [
    "6. How do you tell the difference between the equal to and assignment operators?Describe a condition and when you would use one. \n",
    "\n",
    "Equal to operator (==): The equal to operator is used for comparison to check if two values are equal. It compares the values on both sides of the operator and returns True if they are equal, and False otherwise.\n",
    "\n",
    "exe. \n",
    "\n",
    "x = 5\n",
    "\n",
    "y = 10\n",
    "\n",
    "if x == y:\n",
    "\n",
    "    print(\"x is equal to y\")\n",
    "\n",
    "else:\n",
    "\n",
    "    print(\"x is not equal to y\")\n",
    "\n",
    "Assignment operator (=): The assignment operator is used to assign a value to a variable. It assigns the value on the right-hand side to the variable on the left-hand side\n",
    "\n",
    "exe.\n",
    "\n",
    "x = 5\n",
    "\n",
    "y = x + 2\n",
    "\n",
    "print(y)\n",
    "\n",
    "\n"
   ]
  },
  {
   "attachments": {},
   "cell_type": "markdown",
   "metadata": {},
   "source": [
    "7. Identify the three blocks in this code:\n",
    "\n",
    "spam = 0\n",
    "\n",
    "if spam == 10:\n",
    "\n",
    "print(&#39;eggs&#39;)\n",
    "\n",
    "if spam &gt; 5:\n",
    "\n",
    "print(&#39;bacon&#39;)\n",
    "\n",
    "else:\n",
    "\n",
    "print(&#39;ham&#39;)\n",
    "\n",
    "print(&#39;spam&#39;)\n",
    "\n",
    "print(&#39;spam&#39;)\n",
    "\n",
    "answer:\n",
    "\n",
    "block 1. \n",
    "\n",
    "if spam == 10:\n",
    "\n",
    "    print('eggs')\n",
    "\n",
    "block 2.\n",
    "\n",
    "if spam &gt; 5:\n",
    "\n",
    "print(&#39;bacon&#39;)\n",
    "\n",
    "block3.\n",
    "\n",
    "else:\n",
    "\n",
    "print(&#39;ham&#39;)\n",
    "\n",
    "print(&#39;spam&#39;)\n",
    "\n",
    "print(&#39;spam&#39;)\n",
    "\n",
    "\n",
    "\n",
    "\n"
   ]
  },
  {
   "cell_type": "code",
   "execution_count": null,
   "metadata": {},
   "outputs": [],
   "source": [
    "# 8. Write code that prints Hello if 1 is stored in spam, prints Howdy if 2 is stored in spam, and prints Greetings! if anything else is stored in spam.\n",
    "\n",
    "spam = 1\n",
    "\n",
    "if spam == 1:\n",
    "    print(\"Hello\")\n",
    "elif spam == 2:\n",
    "    print(\"Howdy\")\n",
    "else:\n",
    "    print(\"Greetings!\")\n"
   ]
  },
  {
   "attachments": {},
   "cell_type": "markdown",
   "metadata": {},
   "source": [
    "9. If your programme is stuck in an endless loop, what keys you’ll press?\n",
    "\n",
    "You can stop an infinite loop with CTRL + C"
   ]
  },
  {
   "attachments": {},
   "cell_type": "markdown",
   "metadata": {},
   "source": [
    "10. How can you tell the difference between break and continue?\n",
    "\n",
    "break statement:\n",
    "\n",
    "When encountered within a loop (such as for or while), the break statement terminates the loop prematurely.\n",
    "\n",
    "It immediately exits the loop and resumes execution at the next statement after the loop.\n",
    "\n",
    "continue statement:\n",
    "\n",
    "When encountered within a loop, the continue statement skips the rest of the current iteration and moves to the next iteration of the loop.\n",
    "\n",
    "It essentially jumps to the next iteration without executing the remaining statements within the loop body.\n",
    "\n",
    "(the break statement is used to exit a loop entirely, while the continue statement is used to skip the current iteration and move to the next iteration within a loop.) by observation we can determint diffrent between them.\n",
    "\n"
   ]
  },
  {
   "attachments": {},
   "cell_type": "markdown",
   "metadata": {},
   "source": [
    "11. In a for loop, what is the difference between range(10), range(0, 10), and range(0, 10, 1)?\n",
    "\n",
    "range(10): This form of range function generates a sequence of numbers starting from 0 (inclusive) and ending at 10 (exclusive) with a default step of 1.\n",
    "\n",
    "range(0, 10): This form of range function specifies the starting and ending values of the sequence explicitly, with a default step of 1.\n",
    "\n",
    "range(0, 10, 1): This form of range function specifies the starting value, ending value, and the step size of the sequence explicitly.\n",
    "\n",
    "(they all provide same results = 0, 1, 2, 3, 4, 5, 6, 7, 8, 9)"
   ]
  },
  {
   "cell_type": "code",
   "execution_count": null,
   "metadata": {},
   "outputs": [],
   "source": [
    "# 12. Write a short program that prints the numbers 1 to 10 using a for loop. Then write an equivalent program that prints the numbers 1 to 10 using a while loop.\n",
    "for i in range(10):\n",
    "    print(i+1)\n",
    "    \n",
    "i=1\n",
    "while i<=10:\n",
    "    print(i) \n",
    "    i+=1"
   ]
  },
  {
   "attachments": {},
   "cell_type": "markdown",
   "metadata": {},
   "source": [
    "13. If you had a function named bacon() inside a module named spam, how would you call it after importing spam?\n",
    "\n",
    "If you have a function named bacon() inside a module named spam, you can call it after importing the spam module using the dot notation.\n",
    "\n",
    "import spam\n",
    "\n",
    "spam.bacon()\n"
   ]
  },
  {
   "cell_type": "code",
   "execution_count": null,
   "metadata": {},
   "outputs": [],
   "source": []
  }
 ],
 "metadata": {
  "kernelspec": {
   "display_name": "Python 3",
   "language": "python",
   "name": "python3"
  },
  "language_info": {
   "codemirror_mode": {
    "name": "ipython",
    "version": 3
   },
   "file_extension": ".py",
   "mimetype": "text/x-python",
   "name": "python",
   "nbconvert_exporter": "python",
   "pygments_lexer": "ipython3",
   "version": "3.11.3"
  },
  "orig_nbformat": 4
 },
 "nbformat": 4,
 "nbformat_minor": 2
}
